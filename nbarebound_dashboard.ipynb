{
 "cells": [
  {
   "attachments": {},
   "cell_type": "markdown",
   "metadata": {},
   "source": [
    "# NBA Rebounding Evolution Dashboard\n",
    "\n",
    "The purpose of this project is to practice my Dashboard skills by evaluating how rebounding has evolved in the NBA, to accompany the [medium](https://medium.com/@davidve0206/evolution-of-nba-rebounding-b1aef152c715) blog that explained my EDA regarding this subject.\n",
    "\n",
    "The data used for the project comes from [this](https://www.kaggle.com/datasets/sumitrodatta/nba-aba-baa-stats) dataset on Kaggle; as the datasets are provided as csv files, I created a simple SQLite database with the two files I am most interest in, Player Per Game and Team Summaries, which has been placed in this repository after creation. Moreover, this project uses the Views created in the previous EDA notebook (also in this repository) as a starting point, so I would recommend checking that file before.\n",
    "\n",
    "Finally, this file was created to work locally; the file that will be used for deployment is \"nbarebound_dashboard.py\"\n",
    "\n",
    "Given that, we will being by importing all required packages for this lab:"
   ]
  },
  {
   "cell_type": "code",
   "execution_count": 1,
   "metadata": {},
   "outputs": [
    {
     "data": {
      "text/plain": [
       "'Connected: @nbadatabase.sqlite'"
      ]
     },
     "execution_count": 1,
     "metadata": {},
     "output_type": "execute_result"
    }
   ],
   "source": [
    "import pandas as pd\n",
    "import plotly.express as px\n",
    "from jupyter_dash import JupyterDash\n",
    "from dash import Dash, html, dcc, dash_table, Input, Output\n",
    "\n",
    "%load_ext sql\n",
    "%sql sqlite:///nbadatabase.sqlite"
   ]
  },
  {
   "cell_type": "markdown",
   "metadata": {},
   "source": [
    "Now we will bring the view created in the EDA Lab as a DataFrame and create other useful variables:"
   ]
  },
  {
   "cell_type": "code",
   "execution_count": 2,
   "metadata": {},
   "outputs": [
    {
     "name": "stdout",
     "output_type": "stream",
     "text": [
      " * sqlite:///nbadatabase.sqlite\n",
      "Done.\n"
     ]
    }
   ],
   "source": [
    "rebounds_df = %sql SELECT player, season, team, player_type, trb_per_game FROM player_stats_rebounds\n",
    "rebounds_df = rebounds_df.DataFrame()\n",
    "rebounds_df['season'] = pd.to_numeric(rebounds_df['season'])\n",
    "rebounds_df['trb_per_game'] = pd.to_numeric(rebounds_df['trb_per_game'])\n",
    "\n",
    "seasons =  list(rebounds_df['season'].unique())\n",
    "output_columns = ['Player', 'Average Rebounds per Game']\n",
    "colors = {\n",
    "    'nba_blue': '#17408B',\n",
    "    'white': '#FFFFFF',\n",
    "    'nba_red': '#C9082A',\n",
    "    'light_blue': '#acc0e6'\n",
    "}"
   ]
  },
  {
   "attachments": {},
   "cell_type": "markdown",
   "metadata": {},
   "source": [
    "The code below defines functions that will be used in the dashboard:"
   ]
  },
  {
   "cell_type": "code",
   "execution_count": 13,
   "metadata": {},
   "outputs": [],
   "source": [
    "def get_rebounds_df(season, player_type):\n",
    "    \n",
    "    if player_type is not None:\n",
    "        rebounds_bygame_df = rebounds_df[rebounds_df['player_type']==player_type]\n",
    "    else:\n",
    "        rebounds_bygame_df = rebounds_df\n",
    "    \n",
    "    if season is not None:\n",
    "        rebounds_bygame_df = rebounds_bygame_df[rebounds_bygame_df['season']==season]\n",
    "    \n",
    "    rebounds_avg_df = rebounds_bygame_df[['player','trb_per_game']].groupby(['player']).mean(numeric_only=True).round(1).reset_index()\n",
    "    rebounds_avg_df = rebounds_avg_df.sort_values('trb_per_game', ascending=False)\n",
    "    rebounds_avg_df.columns = output_columns\n",
    "\n",
    "    return rebounds_avg_df   \n",
    "\n",
    "def get_rebounds_hist(rebounds_avg_df):\n",
    "    fig = px.violin(rebounds_avg_df, x='Average Rebounds per Game', hover_data=['Player'], box=True)\n",
    "    fig.update_layout(title=\"Distribution of Rebounds per Game\", width=600, height=350)\n",
    "    return fig\n",
    "\n",
    "def get_rebounds_line(player_type):\n",
    "    if player_type is not None:\n",
    "        rebounds_evolution_df = rebounds_df[rebounds_df['player_type']==player_type]\n",
    "    else:\n",
    "        rebounds_evolution_df = rebounds_df\n",
    "    rebounds_evolution_df = rebounds_evolution_df[['season','trb_per_game']].groupby('season').mean(numeric_only=True).reset_index()\n",
    "\n",
    "    fig = px.line(rebounds_evolution_df, x='season', y='trb_per_game')\n",
    "    fig.update_layout(title=f\"Evolution of rebounds per game from {player_type if player_type is not None else 'all players'}\",\n",
    "                xaxis_title='Season',\n",
    "                yaxis_title='Rebounds per Game',\n",
    "                width=600, height=350)\n",
    "    \n",
    "    return fig\n",
    "\n",
    "def get_rebounds_bar(season, player_type):\n",
    "    if player_type is not None:\n",
    "        rebounds_bygame_df = rebounds_df[(rebounds_df['season']==season) & (rebounds_df['player_type']==player_type)]\n",
    "    else:\n",
    "        rebounds_bygame_df = rebounds_df[rebounds_df['season']==season]\n",
    "    rebounds_bygame_df = rebounds_bygame_df[['team','trb_per_game']].groupby('team').mean(numeric_only=True).reset_index()\n",
    "    rebounds_bygame_df = rebounds_bygame_df.sort_values('trb_per_game', ascending=False).head(10)\n",
    "\n",
    "    fig = px.bar(rebounds_bygame_df, x='team', y='trb_per_game')\n",
    "    fig.update_layout(title=f\"Top teams in rebounds per game from {player_type if player_type is not None else 'all players'}\",\n",
    "                xaxis_title='Team Abbreviation',\n",
    "                yaxis_title='Rebounds per Game',\n",
    "                width=600, height=350)\n",
    "    \n",
    "    return fig"
   ]
  },
  {
   "attachments": {},
   "cell_type": "markdown",
   "metadata": {},
   "source": [
    "The code below creates the structure of the dashboard and initiates it:"
   ]
  },
  {
   "cell_type": "code",
   "execution_count": 24,
   "metadata": {},
   "outputs": [
    {
     "name": "stdout",
     "output_type": "stream",
     "text": [
      "Dash app running on http://127.0.0.1:8050/\n"
     ]
    }
   ],
   "source": [
    "app = JupyterDash(__name__)\n",
    "\n",
    "app.layout = html.Div(style={'backgroundColor': colors['nba_blue']},\n",
    "                      children=[\n",
    "                                html.H1(children='NBA Rebounding Dashboard',\n",
    "                                        style={\n",
    "                                            'textAlign': 'center',\n",
    "                                            'color': colors['white']\n",
    "                                        }),\n",
    "                                \n",
    "                                # Outer Division for dropdowns\n",
    "                                html.Div([\n",
    "                                        #Dropdown helper 1: Year\n",
    "                                        html.Div([html.H3('Season:', style={'margin-right': '1em', 'color': colors['white']})]),\n",
    "                                        #Dropdown 1: Year\n",
    "                                        dcc.Dropdown(id='input-season',\n",
    "                                             options=[{'label': i, 'value': i} for i in seasons],\n",
    "                                             placeholder='Select a year',\n",
    "                                             style={'width':'40%', 'padding':'1px', 'font-size': '15px', 'text-align': 'center'}\n",
    "                                             ),\n",
    "                                        #Dropdown helper 2: Player Type\n",
    "                                        html.Div([html.H3('Player Type:', style={'margin-right': '1em', 'color': colors['white']})]),\n",
    "                                        #Dropdown 2: Player Type\n",
    "                                        dcc.Dropdown(id='input-ptype',\n",
    "                                             options=[{'label': 'Big', 'value': 'Big'},\n",
    "                                                      {'label': 'Guard', 'value': 'Guard'}],\n",
    "                                             placeholder='Select a player type',\n",
    "                                             style={'width':'40%', 'padding':'1px', 'font-size': '15px', 'text-align': 'center'}\n",
    "                                             )\n",
    "                                        ], style = {'display': 'flex', 'align-items': 'center', 'justify-content': 'center', 'margin-left': '10em'}),\n",
    "\n",
    "                                # Outer Division for graphs\n",
    "                                html.Div([\n",
    "                                        html.Div(\n",
    "                                                html.Table([\n",
    "                                                            html.Tr('Top 10 Rebounders', style={'font-size': '2.0rem', 'textAlign': 'center', 'color': colors['white']}),\n",
    "                                                            html.Tr(id='top10-table')])\n",
    "                                                , style={'margin': '5px'}),\n",
    "                                        \n",
    "                                                html.Div([], id='rebound-graph', style={'margin': '5px'}),\n",
    "                                                html.Div([], id='rebound-histogram',  style={'margin': '5px'})\n",
    "                                                \n",
    "                                        ], style={'width':'100%', 'display': 'flex', 'margin': '20px'})\n",
    "                                ])\n",
    "\n",
    "@app.callback(  [Output(component_id='top10-table', component_property='children'),\n",
    "                Output(component_id='rebound-graph', component_property='children'),\n",
    "                Output(component_id='rebound-histogram', component_property='children')],\n",
    "                [Input(component_id='input-season', component_property='value'),\n",
    "                Input(component_id='input-ptype', component_property='value')])\n",
    "def get_children(season, player_type):\n",
    "    \n",
    "    #get dataframe for top 10 table\n",
    "    rebounds_avg_df = get_rebounds_df(season, player_type)\n",
    "    top10_df = rebounds_avg_df.head(10)\n",
    "\n",
    "    #get histogram\n",
    "    hist = get_rebounds_hist(rebounds_avg_df)\n",
    "\n",
    "    #get line or bar chart depending on selection\n",
    "    if season is not None:\n",
    "        figure = get_rebounds_bar(season, player_type)\n",
    "    else:\n",
    "        figure = get_rebounds_line(player_type)\n",
    "\n",
    "    return [dash_table.DataTable(top10_df.to_dict(orient='records')), dcc.Graph(figure=figure), dcc.Graph(figure=hist)]\n",
    "\n",
    "if __name__ == '__main__':\n",
    "    app.run_server(debug=True)"
   ]
  }
 ],
 "metadata": {
  "kernelspec": {
   "display_name": "base",
   "language": "python",
   "name": "python3"
  },
  "language_info": {
   "codemirror_mode": {
    "name": "ipython",
    "version": 3
   },
   "file_extension": ".py",
   "mimetype": "text/x-python",
   "name": "python",
   "nbconvert_exporter": "python",
   "pygments_lexer": "ipython3",
   "version": "3.9.13"
  },
  "orig_nbformat": 4,
  "vscode": {
   "interpreter": {
    "hash": "ad2bdc8ecc057115af97d19610ffacc2b4e99fae6737bb82f5d7fb13d2f2c186"
   }
  }
 },
 "nbformat": 4,
 "nbformat_minor": 2
}
